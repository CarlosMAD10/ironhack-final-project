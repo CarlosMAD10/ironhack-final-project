{
 "cells": [
  {
   "cell_type": "markdown",
   "id": "14acf12c",
   "metadata": {},
   "source": [
    "# Stock market analysis "
   ]
  },
  {
   "cell_type": "code",
   "execution_count": 270,
   "id": "05596f57",
   "metadata": {},
   "outputs": [],
   "source": [
    "import pandas as pd\n",
    "import numpy as np\n",
    "#import pycaret\n",
    "#from pycaret.regression import *\n",
    "import matplotlib.pyplot as plt\n",
    "from sklearn.linear_model import LinearRegression\n",
    "from sklearn.ensemble import RandomForestRegressor\n",
    "from sklearn.model_selection import train_test_split\n",
    "from sklearn import preprocessing\n",
    "import seaborn as sns\n",
    "import datetime\n",
    "from helper_functions import *\n",
    "from sklearn.metrics import mean_absolute_error, mean_squared_error, r2_score\n",
    "%matplotlib inline"
   ]
  },
  {
   "cell_type": "code",
   "execution_count": 37,
   "id": "9d8c9930",
   "metadata": {
    "scrolled": false
   },
   "outputs": [
    {
     "data": {
      "text/plain": [
       "array(['NYA', 'IXIC', 'HSI', '000001.SS', 'GSPTSE', '399001.SZ', 'NSEI',\n",
       "       'GDAXI', 'KS11', 'SSMI', 'TWII', 'J203.JO', 'N225', 'N100'],\n",
       "      dtype=object)"
      ]
     },
     "execution_count": 37,
     "metadata": {},
     "output_type": "execute_result"
    }
   ],
   "source": [
    "data = pd.read_csv(\"./data/indexData.csv\")\n",
    "data[\"Index\"].unique()"
   ]
  },
  {
   "cell_type": "code",
   "execution_count": 40,
   "id": "ad73b5d6",
   "metadata": {
    "scrolled": false
   },
   "outputs": [],
   "source": [
    "data_NY = import_index_data(symbol=\"NYA\")\n",
    "data_DE = import_index_data()"
   ]
  },
  {
   "cell_type": "code",
   "execution_count": 53,
   "id": "532fc53c",
   "metadata": {},
   "outputs": [],
   "source": [
    "data_DE[\"Date\"] = pd.to_datetime(data_DE[\"Date\"])\n",
    "data_NY[\"Date\"] = pd.to_datetime(data_NY[\"Date\"])"
   ]
  },
  {
   "cell_type": "code",
   "execution_count": 47,
   "id": "8ae9b423",
   "metadata": {
    "scrolled": true
   },
   "outputs": [
    {
     "data": {
      "text/html": [
       "<div>\n",
       "<style scoped>\n",
       "    .dataframe tbody tr th:only-of-type {\n",
       "        vertical-align: middle;\n",
       "    }\n",
       "\n",
       "    .dataframe tbody tr th {\n",
       "        vertical-align: top;\n",
       "    }\n",
       "\n",
       "    .dataframe thead th {\n",
       "        text-align: right;\n",
       "    }\n",
       "</style>\n",
       "<table border=\"1\" class=\"dataframe\">\n",
       "  <thead>\n",
       "    <tr style=\"text-align: right;\">\n",
       "      <th></th>\n",
       "      <th>Date</th>\n",
       "      <th>Close</th>\n",
       "      <th>Volume</th>\n",
       "    </tr>\n",
       "  </thead>\n",
       "  <tbody>\n",
       "    <tr>\n",
       "      <th>0</th>\n",
       "      <td>1965-12-31</td>\n",
       "      <td>528.690002</td>\n",
       "      <td>0.0</td>\n",
       "    </tr>\n",
       "    <tr>\n",
       "      <th>1</th>\n",
       "      <td>1966-01-03</td>\n",
       "      <td>527.210022</td>\n",
       "      <td>0.0</td>\n",
       "    </tr>\n",
       "    <tr>\n",
       "      <th>2</th>\n",
       "      <td>1966-01-04</td>\n",
       "      <td>527.840027</td>\n",
       "      <td>0.0</td>\n",
       "    </tr>\n",
       "    <tr>\n",
       "      <th>3</th>\n",
       "      <td>1966-01-05</td>\n",
       "      <td>531.119995</td>\n",
       "      <td>0.0</td>\n",
       "    </tr>\n",
       "    <tr>\n",
       "      <th>4</th>\n",
       "      <td>1966-01-06</td>\n",
       "      <td>532.070007</td>\n",
       "      <td>0.0</td>\n",
       "    </tr>\n",
       "  </tbody>\n",
       "</table>\n",
       "</div>"
      ],
      "text/plain": [
       "         Date       Close  Volume\n",
       "0  1965-12-31  528.690002     0.0\n",
       "1  1966-01-03  527.210022     0.0\n",
       "2  1966-01-04  527.840027     0.0\n",
       "3  1966-01-05  531.119995     0.0\n",
       "4  1966-01-06  532.070007     0.0"
      ]
     },
     "execution_count": 47,
     "metadata": {},
     "output_type": "execute_result"
    }
   ],
   "source": [
    "data_NY.head()"
   ]
  },
  {
   "cell_type": "markdown",
   "id": "1edeb079",
   "metadata": {},
   "source": [
    "Create the time series with close price and volume"
   ]
  },
  {
   "cell_type": "code",
   "execution_count": 52,
   "id": "59772d9e",
   "metadata": {
    "scrolled": true
   },
   "outputs": [
    {
     "data": {
      "text/plain": [
       "Text(0.5, 1.0, 'DAX')"
      ]
     },
     "execution_count": 52,
     "metadata": {},
     "output_type": "execute_result"
    },
    {
     "data": {
      "image/png": "[encoded data removed]",
      "text/plain": [
       "<Figure size 432x288 with 1 Axes>"
      ]
     },
     "metadata": {
      "needs_background": "light"
     },
     "output_type": "display_data"
    }
   ],
   "source": [
    "fig, ax = plt.subplots()\n",
    "ax.plot(data_DE[\"Date\"], data_DE[\"Close\"])\n",
    "ax.set_title('DAX')\n"
   ]
  },
  {
   "cell_type": "code",
   "execution_count": 54,
   "id": "09e3b945",
   "metadata": {},
   "outputs": [
    {
     "data": {
      "text/plain": [
       "Text(0.5, 1.0, 'NYSE')"
      ]
     },
     "execution_count": 54,
     "metadata": {},
     "output_type": "execute_result"
    },
    {
     "data": {
      "image/png": "[encoded data removed]",
      "text/plain": [
       "<Figure size 432x288 with 1 Axes>"
      ]
     },
     "metadata": {
      "needs_background": "light"
     },
     "output_type": "display_data"
    }
   ],
   "source": [
    "fig, ax = plt.subplots()\n",
    "ax.plot(data_NY[\"Date\"], data_NY[\"Close\"])\n",
    "ax.set_title('NYSE')"
   ]
  },
  {
   "cell_type": "code",
   "execution_count": 13,
   "id": "a93d4d8f",
   "metadata": {},
   "outputs": [],
   "source": [
    "snippet = 20\n",
    "projection = 10"
   ]
  },
  {
   "cell_type": "code",
   "execution_count": 65,
   "id": "39d5c4ea",
   "metadata": {
    "scrolled": true
   },
   "outputs": [
    {
     "data": {
      "text/plain": [
       "['Close0',\n",
       " 'Close1',\n",
       " 'Close2',\n",
       " 'Close3',\n",
       " 'Close4',\n",
       " 'Close5',\n",
       " 'Close6',\n",
       " 'Close7',\n",
       " 'Close8',\n",
       " 'Close9',\n",
       " 'Close10',\n",
       " 'Close11',\n",
       " 'Close12',\n",
       " 'Close13',\n",
       " 'Close14',\n",
       " 'Close15',\n",
       " 'Close16',\n",
       " 'Close17',\n",
       " 'Close18',\n",
       " 'Close19',\n",
       " 'Vol0',\n",
       " 'Vol1',\n",
       " 'Vol2',\n",
       " 'Vol3',\n",
       " 'Vol4',\n",
       " 'Vol5',\n",
       " 'Vol6',\n",
       " 'Vol7',\n",
       " 'Vol8',\n",
       " 'Vol9',\n",
       " 'Vol10',\n",
       " 'Vol11',\n",
       " 'Vol12',\n",
       " 'Vol13',\n",
       " 'Vol14',\n",
       " 'Vol15',\n",
       " 'Vol16',\n",
       " 'Vol17',\n",
       " 'Vol18',\n",
       " 'Vol19']"
      ]
     },
     "execution_count": 65,
     "metadata": {},
     "output_type": "execute_result"
    }
   ],
   "source": [
    "cols = [0]*snippet*2\n",
    "for i in range(snippet):\n",
    "    cols[i] = f\"Close{i}\"\n",
    "    cols[snippet + i] = f\"Vol{i}\"\n",
    "cols"
   ]
  },
  {
   "cell_type": "code",
   "execution_count": 66,
   "id": "032163fb",
   "metadata": {},
   "outputs": [],
   "source": [
    "prueba = pd.DataFrame(columns=cols)"
   ]
  },
  {
   "cell_type": "code",
   "execution_count": 67,
   "id": "7ef9effc",
   "metadata": {},
   "outputs": [
    {
     "data": {
      "text/html": [
       "<div>\n",
       "<style scoped>\n",
       "    .dataframe tbody tr th:only-of-type {\n",
       "        vertical-align: middle;\n",
       "    }\n",
       "\n",
       "    .dataframe tbody tr th {\n",
       "        vertical-align: top;\n",
       "    }\n",
       "\n",
       "    .dataframe thead th {\n",
       "        text-align: right;\n",
       "    }\n",
       "</style>\n",
       "<table border=\"1\" class=\"dataframe\">\n",
       "  <thead>\n",
       "    <tr style=\"text-align: right;\">\n",
       "      <th></th>\n",
       "      <th>Close0</th>\n",
       "      <th>Close1</th>\n",
       "      <th>Close2</th>\n",
       "      <th>Close3</th>\n",
       "      <th>Close4</th>\n",
       "      <th>Close5</th>\n",
       "      <th>Close6</th>\n",
       "      <th>Close7</th>\n",
       "      <th>Close8</th>\n",
       "      <th>Close9</th>\n",
       "      <th>...</th>\n",
       "      <th>Vol10</th>\n",
       "      <th>Vol11</th>\n",
       "      <th>Vol12</th>\n",
       "      <th>Vol13</th>\n",
       "      <th>Vol14</th>\n",
       "      <th>Vol15</th>\n",
       "      <th>Vol16</th>\n",
       "      <th>Vol17</th>\n",
       "      <th>Vol18</th>\n",
       "      <th>Vol19</th>\n",
       "    </tr>\n",
       "  </thead>\n",
       "  <tbody>\n",
       "  </tbody>\n",
       "</table>\n",
       "<p>0 rows × 40 columns</p>\n",
       "</div>"
      ],
      "text/plain": [
       "Empty DataFrame\n",
       "Columns: [Close0, Close1, Close2, Close3, Close4, Close5, Close6, Close7, Close8, Close9, Close10, Close11, Close12, Close13, Close14, Close15, Close16, Close17, Close18, Close19, Vol0, Vol1, Vol2, Vol3, Vol4, Vol5, Vol6, Vol7, Vol8, Vol9, Vol10, Vol11, Vol12, Vol13, Vol14, Vol15, Vol16, Vol17, Vol18, Vol19]\n",
       "Index: []\n",
       "\n",
       "[0 rows x 40 columns]"
      ]
     },
     "execution_count": 67,
     "metadata": {},
     "output_type": "execute_result"
    }
   ],
   "source": [
    "prueba"
   ]
  },
  {
   "cell_type": "markdown",
   "id": "82a95231",
   "metadata": {},
   "source": [
    "# Creating the dataframe"
   ]
  },
  {
   "cell_type": "code",
   "execution_count": 186,
   "id": "0c23db6e",
   "metadata": {},
   "outputs": [],
   "source": [
    "def create_modeling_df(data, number_of_snippets, snippet_size=20, projection_step=10):\n",
    "        #Create the columns that the df will have\n",
    "        cols = [0]*snippet_size*2\n",
    "        for i in range(snippet_size):\n",
    "                cols[i] = f\"Vol{i}\"\n",
    "                cols[snippet + i] = f\"Close{i}\"\n",
    "        cols.append(\"Target_price\")\n",
    "        \n",
    "        #Create the empty dataframe\n",
    "        df = pd.DataFrame(columns=cols)\n",
    "\n",
    "        #We fill the dataframe with snippets\n",
    "        while True:\n",
    "                #Randomly select an index number\n",
    "                pivot = int(data.sample().index.values)\n",
    "                #Check in order to avoid trying to index outside the dataframe\n",
    "                if pivot > len(data) - projection_step or pivot < snippet_size:\n",
    "                        continue\n",
    "                else:\n",
    "                        #For each snippet, we get the relevant info and add it to the df\n",
    "                        prices = data.iloc[(pivot-snippet_size):pivot, 1]  # 1 is the column number for closing price\n",
    "                        volumes = data.iloc[(pivot-snippet_size):pivot, 2]  # 2 is for the volume\n",
    "                        #If all the volumes are zero, the index had no information on volumes for the selected date\n",
    "                        if volumes.sum() == 0:\n",
    "                                continue\n",
    "                        final_price = data.iloc[pivot + projection_step, 1]\n",
    "                        volumes = normalize_data(volumes)\n",
    "                        prices = normalize_data(np.append(prices, final_price))\n",
    "                        row = np.append(volumes, prices)\n",
    "                        row = pd.Series(data=row, index=cols)\n",
    "                        df = df.append(row, ignore_index=True)\n",
    "                if len(df) == number_of_snippets:\n",
    "                    break\n",
    "\n",
    "        return df\n",
    "                "
   ]
  },
  {
   "cell_type": "code",
   "execution_count": 218,
   "id": "e7074920",
   "metadata": {},
   "outputs": [],
   "source": [
    "def normalize_data(data):\n",
    "    norm = np.linalg.norm(data)\n",
    "    return data/norm\n"
   ]
  },
  {
   "cell_type": "code",
   "execution_count": 210,
   "id": "2f4b6df0",
   "metadata": {},
   "outputs": [],
   "source": [
    "def normalize_data(data):\n",
    "    return preprocessing.scale(data)\n"
   ]
  },
  {
   "cell_type": "code",
   "execution_count": 255,
   "id": "db386cab",
   "metadata": {},
   "outputs": [],
   "source": [
    "dataframe = create_modeling_df(data_DE, 200, snippet_size=20, projection_step=10)"
   ]
  },
  {
   "cell_type": "code",
   "execution_count": 256,
   "id": "99c7226f",
   "metadata": {
    "scrolled": true
   },
   "outputs": [
    {
     "data": {
      "text/html": [
       "<div>\n",
       "<style scoped>\n",
       "    .dataframe tbody tr th:only-of-type {\n",
       "        vertical-align: middle;\n",
       "    }\n",
       "\n",
       "    .dataframe tbody tr th {\n",
       "        vertical-align: top;\n",
       "    }\n",
       "\n",
       "    .dataframe thead th {\n",
       "        text-align: right;\n",
       "    }\n",
       "</style>\n",
       "<table border=\"1\" class=\"dataframe\">\n",
       "  <thead>\n",
       "    <tr style=\"text-align: right;\">\n",
       "      <th></th>\n",
       "      <th>Vol0</th>\n",
       "      <th>Vol1</th>\n",
       "      <th>Vol2</th>\n",
       "      <th>Vol3</th>\n",
       "      <th>Vol4</th>\n",
       "      <th>Vol5</th>\n",
       "      <th>Vol6</th>\n",
       "      <th>Vol7</th>\n",
       "      <th>Vol8</th>\n",
       "      <th>Vol9</th>\n",
       "      <th>...</th>\n",
       "      <th>Close11</th>\n",
       "      <th>Close12</th>\n",
       "      <th>Close13</th>\n",
       "      <th>Close14</th>\n",
       "      <th>Close15</th>\n",
       "      <th>Close16</th>\n",
       "      <th>Close17</th>\n",
       "      <th>Close18</th>\n",
       "      <th>Close19</th>\n",
       "      <th>Target_price</th>\n",
       "    </tr>\n",
       "  </thead>\n",
       "  <tbody>\n",
       "    <tr>\n",
       "      <th>count</th>\n",
       "      <td>200.000000</td>\n",
       "      <td>200.000000</td>\n",
       "      <td>200.000000</td>\n",
       "      <td>200.000000</td>\n",
       "      <td>200.000000</td>\n",
       "      <td>200.000000</td>\n",
       "      <td>200.000000</td>\n",
       "      <td>200.000000</td>\n",
       "      <td>200.000000</td>\n",
       "      <td>200.000000</td>\n",
       "      <td>...</td>\n",
       "      <td>200.000000</td>\n",
       "      <td>200.000000</td>\n",
       "      <td>200.000000</td>\n",
       "      <td>200.000000</td>\n",
       "      <td>200.000000</td>\n",
       "      <td>200.000000</td>\n",
       "      <td>200.000000</td>\n",
       "      <td>200.000000</td>\n",
       "      <td>200.000000</td>\n",
       "      <td>200.000000</td>\n",
       "    </tr>\n",
       "    <tr>\n",
       "      <th>mean</th>\n",
       "      <td>0.218971</td>\n",
       "      <td>0.212200</td>\n",
       "      <td>0.214838</td>\n",
       "      <td>0.217258</td>\n",
       "      <td>0.212108</td>\n",
       "      <td>0.209992</td>\n",
       "      <td>0.214248</td>\n",
       "      <td>0.211655</td>\n",
       "      <td>0.216402</td>\n",
       "      <td>0.212713</td>\n",
       "      <td>...</td>\n",
       "      <td>0.218123</td>\n",
       "      <td>0.218165</td>\n",
       "      <td>0.218513</td>\n",
       "      <td>0.218502</td>\n",
       "      <td>0.218423</td>\n",
       "      <td>0.218363</td>\n",
       "      <td>0.218676</td>\n",
       "      <td>0.218645</td>\n",
       "      <td>0.218572</td>\n",
       "      <td>0.218800</td>\n",
       "    </tr>\n",
       "    <tr>\n",
       "      <th>std</th>\n",
       "      <td>0.068025</td>\n",
       "      <td>0.061861</td>\n",
       "      <td>0.055887</td>\n",
       "      <td>0.075431</td>\n",
       "      <td>0.066105</td>\n",
       "      <td>0.048996</td>\n",
       "      <td>0.062414</td>\n",
       "      <td>0.046259</td>\n",
       "      <td>0.063669</td>\n",
       "      <td>0.055277</td>\n",
       "      <td>...</td>\n",
       "      <td>0.003932</td>\n",
       "      <td>0.004069</td>\n",
       "      <td>0.005241</td>\n",
       "      <td>0.005184</td>\n",
       "      <td>0.006145</td>\n",
       "      <td>0.006066</td>\n",
       "      <td>0.006442</td>\n",
       "      <td>0.006654</td>\n",
       "      <td>0.007467</td>\n",
       "      <td>0.013875</td>\n",
       "    </tr>\n",
       "    <tr>\n",
       "      <th>min</th>\n",
       "      <td>0.000000</td>\n",
       "      <td>0.000000</td>\n",
       "      <td>0.000000</td>\n",
       "      <td>0.000000</td>\n",
       "      <td>0.076230</td>\n",
       "      <td>0.085171</td>\n",
       "      <td>0.072072</td>\n",
       "      <td>0.085411</td>\n",
       "      <td>0.000000</td>\n",
       "      <td>0.057233</td>\n",
       "      <td>...</td>\n",
       "      <td>0.199486</td>\n",
       "      <td>0.203504</td>\n",
       "      <td>0.183886</td>\n",
       "      <td>0.185310</td>\n",
       "      <td>0.175478</td>\n",
       "      <td>0.179429</td>\n",
       "      <td>0.169445</td>\n",
       "      <td>0.172832</td>\n",
       "      <td>0.179225</td>\n",
       "      <td>0.162843</td>\n",
       "    </tr>\n",
       "    <tr>\n",
       "      <th>25%</th>\n",
       "      <td>0.182169</td>\n",
       "      <td>0.173630</td>\n",
       "      <td>0.180396</td>\n",
       "      <td>0.180086</td>\n",
       "      <td>0.176279</td>\n",
       "      <td>0.180341</td>\n",
       "      <td>0.174834</td>\n",
       "      <td>0.186198</td>\n",
       "      <td>0.179520</td>\n",
       "      <td>0.181503</td>\n",
       "      <td>...</td>\n",
       "      <td>0.216025</td>\n",
       "      <td>0.216322</td>\n",
       "      <td>0.216505</td>\n",
       "      <td>0.216337</td>\n",
       "      <td>0.215974</td>\n",
       "      <td>0.215620</td>\n",
       "      <td>0.216421</td>\n",
       "      <td>0.216293</td>\n",
       "      <td>0.215993</td>\n",
       "      <td>0.213845</td>\n",
       "    </tr>\n",
       "    <tr>\n",
       "      <th>50%</th>\n",
       "      <td>0.212121</td>\n",
       "      <td>0.209978</td>\n",
       "      <td>0.214271</td>\n",
       "      <td>0.211723</td>\n",
       "      <td>0.205469</td>\n",
       "      <td>0.210648</td>\n",
       "      <td>0.209923</td>\n",
       "      <td>0.212765</td>\n",
       "      <td>0.216513</td>\n",
       "      <td>0.212355</td>\n",
       "      <td>...</td>\n",
       "      <td>0.218576</td>\n",
       "      <td>0.218705</td>\n",
       "      <td>0.219020</td>\n",
       "      <td>0.219141</td>\n",
       "      <td>0.219202</td>\n",
       "      <td>0.219218</td>\n",
       "      <td>0.219580</td>\n",
       "      <td>0.219903</td>\n",
       "      <td>0.219762</td>\n",
       "      <td>0.221577</td>\n",
       "    </tr>\n",
       "    <tr>\n",
       "      <th>75%</th>\n",
       "      <td>0.250529</td>\n",
       "      <td>0.244892</td>\n",
       "      <td>0.243770</td>\n",
       "      <td>0.244029</td>\n",
       "      <td>0.236283</td>\n",
       "      <td>0.237419</td>\n",
       "      <td>0.245424</td>\n",
       "      <td>0.240684</td>\n",
       "      <td>0.249121</td>\n",
       "      <td>0.243382</td>\n",
       "      <td>...</td>\n",
       "      <td>0.220586</td>\n",
       "      <td>0.220746</td>\n",
       "      <td>0.221124</td>\n",
       "      <td>0.220964</td>\n",
       "      <td>0.221493</td>\n",
       "      <td>0.221781</td>\n",
       "      <td>0.222251</td>\n",
       "      <td>0.222157</td>\n",
       "      <td>0.222839</td>\n",
       "      <td>0.226865</td>\n",
       "    </tr>\n",
       "    <tr>\n",
       "      <th>max</th>\n",
       "      <td>0.714041</td>\n",
       "      <td>0.487071</td>\n",
       "      <td>0.476648</td>\n",
       "      <td>0.651042</td>\n",
       "      <td>0.647746</td>\n",
       "      <td>0.403352</td>\n",
       "      <td>0.488530</td>\n",
       "      <td>0.378683</td>\n",
       "      <td>0.457138</td>\n",
       "      <td>0.449467</td>\n",
       "      <td>...</td>\n",
       "      <td>0.227930</td>\n",
       "      <td>0.230580</td>\n",
       "      <td>0.240291</td>\n",
       "      <td>0.237234</td>\n",
       "      <td>0.238890</td>\n",
       "      <td>0.238321</td>\n",
       "      <td>0.234574</td>\n",
       "      <td>0.232941</td>\n",
       "      <td>0.234317</td>\n",
       "      <td>0.244773</td>\n",
       "    </tr>\n",
       "  </tbody>\n",
       "</table>\n",
       "<p>8 rows × 41 columns</p>\n",
       "</div>"
      ],
      "text/plain": [
       "             Vol0        Vol1        Vol2        Vol3        Vol4        Vol5  \\\n",
       "count  200.000000  200.000000  200.000000  200.000000  200.000000  200.000000   \n",
       "mean     0.218971    0.212200    0.214838    0.217258    0.212108    0.209992   \n",
       "std      0.068025    0.061861    0.055887    0.075431    0.066105    0.048996   \n",
       "min      0.000000    0.000000    0.000000    0.000000    0.076230    0.085171   \n",
       "25%      0.182169    0.173630    0.180396    0.180086    0.176279    0.180341   \n",
       "50%      0.212121    0.209978    0.214271    0.211723    0.205469    0.210648   \n",
       "75%      0.250529    0.244892    0.243770    0.244029    0.236283    0.237419   \n",
       "max      0.714041    0.487071    0.476648    0.651042    0.647746    0.403352   \n",
       "\n",
       "             Vol6        Vol7        Vol8        Vol9  ...     Close11  \\\n",
       "count  200.000000  200.000000  200.000000  200.000000  ...  200.000000   \n",
       "mean     0.214248    0.211655    0.216402    0.212713  ...    0.218123   \n",
       "std      0.062414    0.046259    0.063669    0.055277  ...    0.003932   \n",
       "min      0.072072    0.085411    0.000000    0.057233  ...    0.199486   \n",
       "25%      0.174834    0.186198    0.179520    0.181503  ...    0.216025   \n",
       "50%      0.209923    0.212765    0.216513    0.212355  ...    0.218576   \n",
       "75%      0.245424    0.240684    0.249121    0.243382  ...    0.220586   \n",
       "max      0.488530    0.378683    0.457138    0.449467  ...    0.227930   \n",
       "\n",
       "          Close12     Close13     Close14     Close15     Close16     Close17  \\\n",
       "count  200.000000  200.000000  200.000000  200.000000  200.000000  200.000000   \n",
       "mean     0.218165    0.218513    0.218502    0.218423    0.218363    0.218676   \n",
       "std      0.004069    0.005241    0.005184    0.006145    0.006066    0.006442   \n",
       "min      0.203504    0.183886    0.185310    0.175478    0.179429    0.169445   \n",
       "25%      0.216322    0.216505    0.216337    0.215974    0.215620    0.216421   \n",
       "50%      0.218705    0.219020    0.219141    0.219202    0.219218    0.219580   \n",
       "75%      0.220746    0.221124    0.220964    0.221493    0.221781    0.222251   \n",
       "max      0.230580    0.240291    0.237234    0.238890    0.238321    0.234574   \n",
       "\n",
       "          Close18     Close19  Target_price  \n",
       "count  200.000000  200.000000    200.000000  \n",
       "mean     0.218645    0.218572      0.218800  \n",
       "std      0.006654    0.007467      0.013875  \n",
       "min      0.172832    0.179225      0.162843  \n",
       "25%      0.216293    0.215993      0.213845  \n",
       "50%      0.219903    0.219762      0.221577  \n",
       "75%      0.222157    0.222839      0.226865  \n",
       "max      0.232941    0.234317      0.244773  \n",
       "\n",
       "[8 rows x 41 columns]"
      ]
     },
     "execution_count": 256,
     "metadata": {},
     "output_type": "execute_result"
    }
   ],
   "source": [
    "dataframe.describe()"
   ]
  },
  {
   "cell_type": "code",
   "execution_count": 257,
   "id": "504a111f",
   "metadata": {},
   "outputs": [],
   "source": [
    "reg = LinearRegression()\n",
    "X_train, X_test, y_train, y_test = train_test_split(dataframe.drop(\"Target_price\", axis=1), dataframe[\"Target_price\"])"
   ]
  },
  {
   "cell_type": "code",
   "execution_count": 258,
   "id": "cf4d4309",
   "metadata": {
    "scrolled": true
   },
   "outputs": [
    {
     "data": {
      "text/plain": [
       "LinearRegression()"
      ]
     },
     "execution_count": 258,
     "metadata": {},
     "output_type": "execute_result"
    }
   ],
   "source": [
    "reg.fit(X_train, y_train)"
   ]
  },
  {
   "cell_type": "code",
   "execution_count": 271,
   "id": "584ae2c4",
   "metadata": {},
   "outputs": [
    {
     "data": {
      "text/plain": [
       "RandomForestRegressor()"
      ]
     },
     "execution_count": 271,
     "metadata": {},
     "output_type": "execute_result"
    }
   ],
   "source": [
    "rf = RandomForestRegressor()\n",
    "rf.fit(X_train, y_train)"
   ]
  },
  {
   "cell_type": "code",
   "execution_count": 272,
   "id": "58d70f44",
   "metadata": {},
   "outputs": [],
   "source": [
    "y_predict = rf.predict(X_test)"
   ]
  },
  {
   "cell_type": "code",
   "execution_count": 273,
   "id": "95f60c86",
   "metadata": {},
   "outputs": [
    {
     "data": {
      "text/plain": [
       "0.5238785381577866"
      ]
     },
     "execution_count": 273,
     "metadata": {},
     "output_type": "execute_result"
    }
   ],
   "source": [
    "score = r2_score(y_test, y_predict)\n",
    "score"
   ]
  },
  {
   "cell_type": "code",
   "execution_count": 266,
   "id": "e848739a",
   "metadata": {},
   "outputs": [],
   "source": [
    "NY_df = create_modeling_df(data_NY, 200, snippet_size=20, projection_step=40)"
   ]
  },
  {
   "cell_type": "code",
   "execution_count": 267,
   "id": "80f9e930",
   "metadata": {},
   "outputs": [],
   "source": [
    "y_predict = reg.predict(NY_df.drop(\"Target_price\", axis=1))"
   ]
  },
  {
   "cell_type": "code",
   "execution_count": 268,
   "id": "6c5c3b8f",
   "metadata": {},
   "outputs": [],
   "source": [
    "score = r2_score(NY_df[\"Target_price\"], y_predict)"
   ]
  },
  {
   "cell_type": "code",
   "execution_count": 269,
   "id": "4dfa2aab",
   "metadata": {},
   "outputs": [
    {
     "data": {
      "text/plain": [
       "0.9432798712710844"
      ]
     },
     "execution_count": 269,
     "metadata": {},
     "output_type": "execute_result"
    }
   ],
   "source": [
    "score"
   ]
  },
  {
   "cell_type": "code",
   "execution_count": null,
   "id": "d8180e97",
   "metadata": {},
   "outputs": [],
   "source": []
  }
 ],
 "metadata": {
  "kernelspec": {
   "display_name": "Python 3 (ipykernel)",
   "language": "python",
   "name": "python3"
  },
  "language_info": {
   "codemirror_mode": {
    "name": "ipython",
    "version": 3
   },
   "file_extension": ".py",
   "mimetype": "text/x-python",
   "name": "python",
   "nbconvert_exporter": "python",
   "pygments_lexer": "ipython3",
   "version": "3.9.6"
  }
 },
 "nbformat": 4,
 "nbformat_minor": 5
}
